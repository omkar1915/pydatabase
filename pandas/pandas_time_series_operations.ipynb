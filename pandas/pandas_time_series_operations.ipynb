{
 "cells": [
  {
   "cell_type": "code",
   "execution_count": 1,
   "id": "70c22fbf",
   "metadata": {},
   "outputs": [
    {
     "name": "stdout",
     "output_type": "stream",
     "text": [
      "DatetimeIndex(['2022-10-01 00:00:00', '2022-10-01 00:01:00',\n",
      "               '2022-10-01 00:02:00', '2022-10-01 00:03:00',\n",
      "               '2022-10-01 00:04:00', '2022-10-01 00:05:00',\n",
      "               '2022-10-01 00:06:00', '2022-10-01 00:07:00',\n",
      "               '2022-10-01 00:08:00', '2022-10-01 00:09:00',\n",
      "               ...\n",
      "               '2022-10-31 23:51:00', '2022-10-31 23:52:00',\n",
      "               '2022-10-31 23:53:00', '2022-10-31 23:54:00',\n",
      "               '2022-10-31 23:55:00', '2022-10-31 23:56:00',\n",
      "               '2022-10-31 23:57:00', '2022-10-31 23:58:00',\n",
      "               '2022-10-31 23:59:00', '2022-11-01 00:00:00'],\n",
      "              dtype='datetime64[ns]', length=44641, freq='T')\n"
     ]
    }
   ],
   "source": [
    "import numpy as np \n",
    "import pandas as pd\n",
    "from datetime import datetime \n",
    "time = pd.date_range(start='10/1/2022', end='11/1/2022',freq='min')\n",
    "print(time)"
   ]
  },
  {
   "cell_type": "code",
   "execution_count": 2,
   "id": "af169a1f",
   "metadata": {},
   "outputs": [
    {
     "name": "stdout",
     "output_type": "stream",
     "text": [
      "                 datetime\n",
      "0     2022-10-01 00:00:00\n",
      "1     2022-10-01 00:01:00\n",
      "2     2022-10-01 00:02:00\n",
      "3     2022-10-01 00:03:00\n",
      "4     2022-10-01 00:04:00\n",
      "...                   ...\n",
      "44636 2022-10-31 23:56:00\n",
      "44637 2022-10-31 23:57:00\n",
      "44638 2022-10-31 23:58:00\n",
      "44639 2022-10-31 23:59:00\n",
      "44640 2022-11-01 00:00:00\n",
      "\n",
      "[44641 rows x 1 columns]\n"
     ]
    }
   ],
   "source": [
    "time = pd.date_range(start='10/1/2022', end='11/1/2022',freq='min')\n",
    "df=pd.DataFrame(time,columns=['datetime'])\n",
    "print(df)"
   ]
  },
  {
   "cell_type": "code",
   "execution_count": 3,
   "id": "dfe92bb2",
   "metadata": {},
   "outputs": [
    {
     "name": "stdout",
     "output_type": "stream",
     "text": [
      "                 datetime  DATA\n",
      "0     2022-10-01 00:00:00    52\n",
      "1     2022-10-01 00:01:00    49\n",
      "2     2022-10-01 00:02:00    32\n",
      "3     2022-10-01 00:03:00    35\n",
      "4     2022-10-01 00:04:00    41\n",
      "...                   ...   ...\n",
      "44636 2022-10-31 23:56:00    17\n",
      "44637 2022-10-31 23:57:00    33\n",
      "44638 2022-10-31 23:58:00    69\n",
      "44639 2022-10-31 23:59:00    32\n",
      "44640 2022-11-01 00:00:00    22\n",
      "\n",
      "[44641 rows x 2 columns]\n"
     ]
    },
    {
     "data": {
      "text/html": [
       "<div>\n",
       "<style scoped>\n",
       "    .dataframe tbody tr th:only-of-type {\n",
       "        vertical-align: middle;\n",
       "    }\n",
       "\n",
       "    .dataframe tbody tr th {\n",
       "        vertical-align: top;\n",
       "    }\n",
       "\n",
       "    .dataframe thead th {\n",
       "        text-align: right;\n",
       "    }\n",
       "</style>\n",
       "<table border=\"1\" class=\"dataframe\">\n",
       "  <thead>\n",
       "    <tr style=\"text-align: right;\">\n",
       "      <th></th>\n",
       "      <th>datetime</th>\n",
       "      <th>DATA</th>\n",
       "    </tr>\n",
       "  </thead>\n",
       "  <tbody>\n",
       "    <tr>\n",
       "      <th>0</th>\n",
       "      <td>2022-10-01 00:00:00</td>\n",
       "      <td>52</td>\n",
       "    </tr>\n",
       "    <tr>\n",
       "      <th>1</th>\n",
       "      <td>2022-10-01 00:01:00</td>\n",
       "      <td>49</td>\n",
       "    </tr>\n",
       "    <tr>\n",
       "      <th>2</th>\n",
       "      <td>2022-10-01 00:02:00</td>\n",
       "      <td>32</td>\n",
       "    </tr>\n",
       "    <tr>\n",
       "      <th>3</th>\n",
       "      <td>2022-10-01 00:03:00</td>\n",
       "      <td>35</td>\n",
       "    </tr>\n",
       "    <tr>\n",
       "      <th>4</th>\n",
       "      <td>2022-10-01 00:04:00</td>\n",
       "      <td>41</td>\n",
       "    </tr>\n",
       "  </tbody>\n",
       "</table>\n",
       "</div>"
      ],
      "text/plain": [
       "             datetime  DATA\n",
       "0 2022-10-01 00:00:00    52\n",
       "1 2022-10-01 00:01:00    49\n",
       "2 2022-10-01 00:02:00    32\n",
       "3 2022-10-01 00:03:00    35\n",
       "4 2022-10-01 00:04:00    41"
      ]
     },
     "execution_count": 3,
     "metadata": {},
     "output_type": "execute_result"
    }
   ],
   "source": [
    "import numpy as np \n",
    "import pandas as pd\n",
    "from datetime import datetime \n",
    "time = pd.date_range(start='10/1/2022', end='11/1/2022',freq='min')\n",
    "df=pd.DataFrame(time,columns=['datetime'])\n",
    "df['DATA'] = np.random.randint(0,100,size=(len(time)))\n",
    "print(df)\n",
    "df.head()\n",
    "#df.head(20)"
   ]
  },
  {
   "cell_type": "code",
   "execution_count": null,
   "id": "d1421e91",
   "metadata": {},
   "outputs": [],
   "source": []
  }
 ],
 "metadata": {
  "kernelspec": {
   "display_name": "Python 3 (ipykernel)",
   "language": "python",
   "name": "python3"
  },
  "language_info": {
   "codemirror_mode": {
    "name": "ipython",
    "version": 3
   },
   "file_extension": ".py",
   "mimetype": "text/x-python",
   "name": "python",
   "nbconvert_exporter": "python",
   "pygments_lexer": "ipython3",
   "version": "3.9.12"
  }
 },
 "nbformat": 4,
 "nbformat_minor": 5
}
